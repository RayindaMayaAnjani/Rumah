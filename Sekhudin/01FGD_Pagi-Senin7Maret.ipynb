{
 "cells": [
  {
   "cell_type": "markdown",
   "metadata": {},
   "source": [
    "<h3><b>FGD Pagi - Class</b></h3>\n"
   ]
  },
  {
   "cell_type": "markdown",
   "metadata": {},
   "source": [
    "<h4>Class Variabel</h4>\n"
   ]
  },
  {
   "cell_type": "code",
   "execution_count": 2,
   "metadata": {},
   "outputs": [
    {
     "name": "stdout",
     "output_type": "stream",
     "text": [
      "Ini adalah contoh class variabel : Sekhudin\n",
      "None\n"
     ]
    }
   ],
   "source": [
    "class IniClassVariabel:\n",
    "    nama = 'Sekhudin'\n",
    "\n",
    "    def CetakHitung(self):\n",
    "        print('Ini adalah contoh class variabel : {}'.format(self.nama))\n",
    "\n",
    "\n",
    "# instance\n",
    "cobaClassVariabel = IniClassVariabel()\n",
    "print(cobaClassVariabel.CetakHitung())\n"
   ]
  },
  {
   "cell_type": "markdown",
   "metadata": {},
   "source": [
    "<h4>Konstruktor</h4>\n"
   ]
  },
  {
   "cell_type": "code",
   "execution_count": 3,
   "metadata": {},
   "outputs": [],
   "source": [
    "class IniConstruct:\n",
    "    # dibawah ini adalah kontruktor\n",
    "    def __init__(self, nama, universitas, kota):\n",
    "        self.nama = nama\n",
    "        self.universitas = universitas\n",
    "        self.kota = kota\n"
   ]
  },
  {
   "cell_type": "code",
   "execution_count": 4,
   "metadata": {},
   "outputs": [
    {
     "name": "stdout",
     "output_type": "stream",
     "text": [
      "Sekhdin\n",
      "Universitas Amikom Purwokerto\n",
      "Purbalingga\n"
     ]
    }
   ],
   "source": [
    "# membuat object\n",
    "saya = IniConstruct('Sekhdin', 'Universitas Amikom Purwokerto', 'Purbalingga')\n",
    "print(saya.nama)\n",
    "print(saya.universitas)\n",
    "print(saya.kota)\n"
   ]
  },
  {
   "cell_type": "markdown",
   "metadata": {},
   "source": [
    "<h4>Class Method</h4>\n"
   ]
  },
  {
   "cell_type": "code",
   "execution_count": 6,
   "metadata": {},
   "outputs": [],
   "source": [
    "class ClassMethod:\n",
    "    # dibawah ini adalah kontruktor\n",
    "    def __init__(self, nama, universitas, kota):\n",
    "        self.nama = nama\n",
    "        self.universitas = universitas\n",
    "        self.kota = kota\n",
    "    # dibawah ini adalah method\n",
    "\n",
    "    def printSemua(self):\n",
    "        print('=== Tentang Anda ===')\n",
    "        print('Nama: {}'.format(self.nama))\n",
    "        print(f'Universitas : {self.universitas}')\n",
    "        print(f'kota : {self.kota}')\n"
   ]
  },
  {
   "cell_type": "code",
   "execution_count": 7,
   "metadata": {},
   "outputs": [
    {
     "name": "stdout",
     "output_type": "stream",
     "text": [
      "=== Tentang Anda ===\n",
      "Nama: Muammar Khadafi\n",
      "Universitas : Universitas Vrindavan\n",
      "kota : Pradesh\n"
     ]
    }
   ],
   "source": [
    "saya = ClassMethod('Muammar Khadafi', 'Universitas Vrindavan', 'Pradesh')\n",
    "saya.printSemua()\n"
   ]
  },
  {
   "cell_type": "markdown",
   "metadata": {},
   "source": [
    "<h4>Inheritance</h4>\n"
   ]
  },
  {
   "cell_type": "code",
   "execution_count": 8,
   "metadata": {},
   "outputs": [
    {
     "name": "stdout",
     "output_type": "stream",
     "text": [
      "jika tulisan ini muncul maka class Coba berhasil diinherit oleh class IniTurunanCoba\n"
     ]
    }
   ],
   "source": [
    "class Coba:\n",
    "    txt = \"jika tulisan ini muncul maka class Coba berhasil diinherit oleh class IniTurunanCoba\"\n",
    "\n",
    "\n",
    "class IniTurunanCoba(Coba):\n",
    "    pass\n",
    "\n",
    "\n",
    "# coba\n",
    "print(IniTurunanCoba.txt)\n"
   ]
  },
  {
   "cell_type": "markdown",
   "metadata": {},
   "source": [
    "<h3><b>FGD Pagi - Modules</b></h3>"
   ]
  },
  {
   "cell_type": "markdown",
   "metadata": {},
   "source": [
    "<h4>Library OS, Math, Time</h4>"
   ]
  },
  {
   "cell_type": "code",
   "execution_count": 9,
   "metadata": {},
   "outputs": [],
   "source": [
    "# Mengimport library\n",
    "import os\n",
    "import math\n",
    "import time"
   ]
  },
  {
   "cell_type": "code",
   "execution_count": 57,
   "metadata": {},
   "outputs": [
    {
     "data": {
      "text/plain": [
       "'e:\\\\KULIAH\\\\SEMESTER_6\\\\MSIB\\\\mingguKe-03'"
      ]
     },
     "execution_count": 57,
     "metadata": {},
     "output_type": "execute_result"
    }
   ],
   "source": [
    "# Libraray OS\n",
    "os.getcwd() # unutk menetahui working direktory\n",
    "# os.mkdir('directoryPercobaa1') #untuk membuat direktory dengan parameter nama\n",
    "os.chdir('..') #unutk berpindah direktori\n",
    "os.getcwd()\n"
   ]
  },
  {
   "cell_type": "code",
   "execution_count": 10,
   "metadata": {},
   "outputs": [
    {
     "data": {
      "text/plain": [
       "3"
      ]
     },
     "execution_count": 10,
     "metadata": {},
     "output_type": "execute_result"
    }
   ],
   "source": [
    "# library math\n",
    "math.ceil(3)"
   ]
  },
  {
   "cell_type": "code",
   "execution_count": 13,
   "metadata": {},
   "outputs": [
    {
     "name": "stdout",
     "output_type": "stream",
     "text": [
      "Waktu saat ini : time.struct_time(tm_year=2022, tm_mon=3, tm_mday=7, tm_hour=11, tm_min=30, tm_sec=50, tm_wday=0, tm_yday=66, tm_isdst=0)\n"
     ]
    }
   ],
   "source": [
    "# Library Time\n",
    "\n",
    "time1= time.asctime() #mengembalikan string time\n",
    "time.get_clock_info('thread_time')\n",
    "\n",
    "\n",
    "waktu_sekarang = time.localtime(time.time())\n",
    "print (\"Waktu saat ini :\", waktu_sekarang)"
   ]
  },
  {
   "cell_type": "code",
   "execution_count": 92,
   "metadata": {},
   "outputs": [
    {
     "name": "stdout",
     "output_type": "stream",
     "text": [
      "Kalkulator Rumus Gerak Parabola\n",
      "Cari:\n",
      "1.Tinggi Maksimum\n",
      "2.Jarak Maksimum\n",
      "tinggi maksimumnya : 25.992\n",
      "===== WARNING\n",
      "Input user harus berupa anka 1 atau 2 !\n",
      "=============\n",
      "===== WARNING\n",
      "Input Harus angka 1 atau 2 !\n",
      "=============\n",
      "tinggi maksimumnya : 0.32\n",
      "tinggi maksimumnya : 42.32000000000001\n",
      "===== WARNING\n",
      "Input user harus berupa anka 1 atau 2 !\n",
      "=============\n",
      "program berhenti\n",
      "=============\n"
     ]
    }
   ],
   "source": [
    "# kOMBINASI\n",
    "import math as m\n",
    "class parabola:\n",
    "  Vx= 0 \n",
    "  Vy= 0 \n",
    "  V0=0 \n",
    "  a=0 \n",
    "  t=0\n",
    "  def tinggiMaksimum(self):\n",
    "    self.V0=float(input(\"masukan kecepatan awal:\"))\n",
    "    self.a=format(m.sin(int(input(\"masukan sudut:\"))),'.1f')\n",
    "    self.Vy = (m.pow(self.V0,2)*m.pow(float(self.a),2))/(2*10)\n",
    "    print(\"tinggi maksimumnya :\",self.Vy)\n",
    "  def jarakMaksimum(self):\n",
    "    self.V0=float(input(\"masukan kecepatan awal:\"))\n",
    "    self.a=int(input(\"masukan sudut:\"))\n",
    "    self.a=2*(float(format(m.sin(self.a),'.1f'))*float(format(m.cos(self.a),'.1f')))\n",
    "    self.Vx = (m.pow(self.V0,2)*self.a)/10\n",
    "    print(\"tinggi maksimumnya :\",self.Vx)\n",
    "\n",
    "print(\"Kalkulator Rumus Gerak Parabola\")\n",
    "print(\"Cari:\")\n",
    "print(\"1.Tinggi Maksimum\")\n",
    "print(\"2.Jarak Maksimum\")\n",
    "\n",
    "while True:\n",
    "    i = input(\"masukan pilihan:\")\n",
    "    mode=0\n",
    "    try:\n",
    "        mode= int(i)\n",
    "        if mode==1 or mode==2:\n",
    "            parabola1 = parabola()\n",
    "            if(i==1):\n",
    "              parabola1.tinggiMaksimum()\n",
    "            else:\n",
    "                parabola1.jarakMaksimum()\n",
    "        else:\n",
    "            print('='*5,'WARNING')\n",
    "            print('Input Harus angka 1 atau 2 !')\n",
    "            print('='*13)\n",
    "\n",
    "    except:\n",
    "        if i=='stop':\n",
    "            print('program berhenti')\n",
    "            print('='*13)\n",
    "            break\n",
    "        else:\n",
    "            print('='*5,'WARNING')\n",
    "            print('Input user harus berupa anka 1 atau 2 !')\n",
    "            print('='*13)\n"
   ]
  }
 ],
 "metadata": {
  "interpreter": {
   "hash": "8a0314e9a3496969cdc3b628708851b260263268c48c6868778a684e0fdc7ce1"
  },
  "kernelspec": {
   "display_name": "Python 3.7.1 ('base')",
   "language": "python",
   "name": "python3"
  },
  "language_info": {
   "codemirror_mode": {
    "name": "ipython",
    "version": 3
   },
   "file_extension": ".py",
   "mimetype": "text/x-python",
   "name": "python",
   "nbconvert_exporter": "python",
   "pygments_lexer": "ipython3",
   "version": "3.7.1"
  },
  "orig_nbformat": 4
 },
 "nbformat": 4,
 "nbformat_minor": 2
}
